{
 "cells": [
  {
   "cell_type": "code",
   "execution_count": 14,
   "metadata": {
    "ExecuteTime": {
     "end_time": "2024-04-28T21:24:29.087833Z",
     "start_time": "2024-04-28T21:24:29.083743Z"
    }
   },
   "outputs": [],
   "source": [
    "import tensorflow as tf\n",
    "from keras.preprocessing import image\n",
    "from keras.applications.mobilenet_v2 import preprocess_input\n",
    "import numpy as np\n",
    "import cv2\n",
    "import tkinter as tk\n",
    "from tkinter import filedialog\n",
    "from keras.models import model_from_json\n",
    "import json\n"
   ]
  },
  {
   "cell_type": "markdown",
   "metadata": {},
   "source": [
    "# Load the emotion detection model"
   ]
  },
  {
   "cell_type": "code",
   "execution_count": 15,
   "metadata": {
    "ExecuteTime": {
     "end_time": "2024-04-28T21:24:29.270058Z",
     "start_time": "2024-04-28T21:24:29.103878Z"
    }
   },
   "outputs": [
    {
     "name": "stdout",
     "output_type": "stream",
     "text": [
      "Loaded model from disk\n"
     ]
    }
   ],
   "source": [
    "json_file = open(r'C:\\Users\\amir1\\PycharmProjects\\Face_Emotion_Recognition3\\Emotion-Model\\emotion_model.json', 'r')\n",
    "loaded_model_json = json_file.read()\n",
    "json_file.close()\n",
    "emotion_model = model_from_json(loaded_model_json)\n",
    "emotion_model.load_weights(r\"C:\\Users\\amir1\\PycharmProjects\\Face_Emotion_Recognition3\\Emotion-Model\\emotion_model.h5\")\n",
    "print(\"Loaded model from disk\")\n"
   ]
  },
  {
   "cell_type": "code",
   "execution_count": 16,
   "metadata": {
    "ExecuteTime": {
     "end_time": "2024-04-28T21:24:29.275841Z",
     "start_time": "2024-04-28T21:24:29.271417Z"
    }
   },
   "outputs": [],
   "source": [
    "\n",
    "emotion_dict = {0: \"Angry\", 1: \"Disgusted\", 2: \"Fearful\", 3: \"Happy\", 4: \"Neutral\", 5: \"Sad\", 6: \"Surprised\"}\n"
   ]
  },
  {
   "cell_type": "markdown",
   "metadata": {},
   "source": [
    "# GET FILE ()"
   ]
  },
  {
   "cell_type": "code",
   "execution_count": 17,
   "metadata": {
    "ExecuteTime": {
     "end_time": "2024-04-28T21:24:29.281786Z",
     "start_time": "2024-04-28T21:24:29.276850Z"
    }
   },
   "outputs": [],
   "source": [
    "\n",
    "def get_file_path():\n",
    "    root = tk.Tk()\n",
    "    root.withdraw()\n",
    "\n",
    "    file_path = filedialog.askopenfilename(title=\"Select a file\", filetypes=[(\"Image and Video files\", \"*.png;*.jpg;*.jpeg;*.gif;*.mp4\")])\n",
    "\n",
    "    return file_path\n"
   ]
  },
  {
   "cell_type": "markdown",
   "metadata": {},
   "source": [
    "# Processing Image Frames"
   ]
  },
  {
   "cell_type": "code",
   "execution_count": 18,
   "metadata": {
    "ExecuteTime": {
     "end_time": "2024-04-28T21:24:29.290839Z",
     "start_time": "2024-04-28T21:24:29.283795Z"
    }
   },
   "outputs": [],
   "source": [
    "\n",
    "def process_image_frame(frame, face_detector):\n",
    "    gray_frame = cv2.cvtColor(frame, cv2.COLOR_BGR2GRAY)\n",
    "    faces = face_detector.detectMultiScale(gray_frame, scaleFactor=1.3, minNeighbors=5)\n",
    "\n",
    "    for (x, y, w, h) in faces:\n",
    "        roi_gray_frame = gray_frame[y:y + h, x:x + w]\n",
    "        cropped_img = np.expand_dims(np.expand_dims(cv2.resize(roi_gray_frame, (48, 48)), -1), 0)\n",
    "\n",
    "        emotion_prediction = emotion_model.predict(cropped_img)\n",
    "        maxindex = int(np.argmax(emotion_prediction))\n",
    "        cv2.putText(frame, emotion_dict[maxindex], (x+5, y-20), cv2.FONT_HERSHEY_SIMPLEX, 1, (255, 0, 0), 2, cv2.LINE_AA)\n",
    "\n",
    "    return frame\n"
   ]
  },
  {
   "cell_type": "markdown",
   "metadata": {},
   "source": [
    "# Processing Video Frames"
   ]
  },
  {
   "cell_type": "code",
   "execution_count": 19,
   "metadata": {
    "ExecuteTime": {
     "end_time": "2024-04-28T21:24:29.298198Z",
     "start_time": "2024-04-28T21:24:29.291847Z"
    }
   },
   "outputs": [],
   "source": [
    "\n",
    "def process_video_frame(frame, face_detector):\n",
    "    frame = cv2.resize(frame, (1280, 720))\n",
    "    gray_frame = cv2.cvtColor(frame, cv2.COLOR_BGR2GRAY)\n",
    "    faces = face_detector.detectMultiScale(gray_frame, scaleFactor=1.3, minNeighbors=5)\n",
    "\n",
    "    for (x, y, w, h) in faces:\n",
    "        roi_gray_frame = gray_frame[y:y + h, x:x + w]\n",
    "        cropped_img = np.expand_dims(np.expand_dims(cv2.resize(roi_gray_frame, (48, 48)), -1), 0)\n",
    "\n",
    "        emotion_prediction = emotion_model.predict(cropped_img)\n",
    "        maxindex = int(np.argmax(emotion_prediction))\n",
    "        cv2.putText(frame, emotion_dict[maxindex], (x+5, y-20), cv2.FONT_HERSHEY_SIMPLEX, 1, (255, 0, 0), 2, cv2.LINE_AA)\n",
    "\n",
    "    return frame\n"
   ]
  },
  {
   "cell_type": "markdown",
   "metadata": {},
   "source": [
    "\n",
    "# Get The File Path Using The File Dialog\n"
   ]
  },
  {
   "cell_type": "code",
   "execution_count": 28,
   "metadata": {
    "ExecuteTime": {
     "end_time": "2024-05-02T09:12:02.220203Z",
     "start_time": "2024-05-02T09:11:59.107833Z"
    }
   },
   "outputs": [
    {
     "name": "stdout",
     "output_type": "stream",
     "text": [
      "1/1 [==============================] - 0s 35ms/step\n",
      "1/1 [==============================] - 0s 25ms/step\n"
     ]
    }
   ],
   "source": [
    "def get_file_path1():\n",
    "    root = tk.Tk()\n",
    "    root.withdraw()\n",
    "\n",
    "    file_path = filedialog.askopenfilename(title=\"Select a file\", filetypes=[(\"Image and Video files\", \"*.png;*.jpg;*.jpeg;*.gif;*.mp4\")])\n",
    "    print(file_path)\n",
    "\n",
    "    return file_path\n",
    "\n",
    "# file_path = r\"D:\\Записи\\doc_2024-04-16_16-23-31.mp4\"\n",
    "file_path = r\"C:\\Users\\amir1\\PycharmProjects\\Face_Emotion_Recognition3\\Test_images\\my_emotion\\5.jpg\"\n",
    "\n",
    "output_video_path = \"result_video.mp4\"\n",
    "\n",
    "if file_path.lower().endswith(('.png', '.jpg', '.jpeg', '.gif')):\n",
    "    img = cv2.imread(file_path)\n",
    "    face_detector = cv2.CascadeClassifier(r'C:\\Users\\amir1\\PycharmProjects\\Face_Emotion_Recognition3\\haarcascades\\haarcascade_frontalface_default.xml')\n",
    "    result_frame = process_image_frame(img, face_detector)\n",
    "\n",
    "    cv2.imshow('Emotion Detection', result_frame)\n",
    "    cv2.waitKey(0)\n",
    "    cv2.destroyAllWindows()\n",
    "else:\n",
    "    cap = cv2.VideoCapture(file_path)\n",
    "    face_detector = cv2.CascadeClassifier(r'C:\\Users\\amir1\\PycharmProjects\\Face_Emotion_Recognition3\\haarcascades\\haarcascade_frontalface_default.xml')\n",
    "\n",
    "    width = int(cap.get(cv2.CAP_PROP_FRAME_WIDTH))\n",
    "    height = int(cap.get(cv2.CAP_PROP_FRAME_HEIGHT))\n",
    "    fps = int(cap.get(cv2.CAP_PROP_FPS))\n",
    "\n",
    "    fourcc = cv2.VideoWriter_fourcc(*'mp4v')\n",
    "    out = cv2.VideoWriter(output_video_path, fourcc, fps, (width, height))\n",
    "\n",
    "    while True:\n",
    "        ret, frame = cap.read()\n",
    "        if not ret:\n",
    "            break\n",
    "        result_frame = process_video_frame(frame, face_detector)\n",
    "\n",
    "        out.write(result_frame)\n",
    "\n",
    "        cv2.imshow('Emotion Detection', result_frame)\n",
    "        if cv2.waitKey(1) == ord('q'):\n",
    "            break\n",
    "\n",
    "    cap.release()\n",
    "    out.release()\n",
    "    cv2.destroyAllWindows()\n"
   ]
  },
  {
   "cell_type": "code",
   "outputs": [],
   "source": [],
   "metadata": {
    "collapsed": false,
    "ExecuteTime": {
     "end_time": "2024-04-28T21:24:33.041245Z",
     "start_time": "2024-04-28T21:24:33.037738Z"
    }
   },
   "execution_count": 20
  }
 ],
 "metadata": {
  "kernelspec": {
   "display_name": "Python 3",
   "language": "python",
   "name": "python3"
  },
  "language_info": {
   "codemirror_mode": {
    "name": "ipython",
    "version": 3
   },
   "file_extension": ".py",
   "mimetype": "text/x-python",
   "name": "python",
   "nbconvert_exporter": "python",
   "pygments_lexer": "ipython3",
   "version": "3.11.1"
  }
 },
 "nbformat": 4,
 "nbformat_minor": 2
}
